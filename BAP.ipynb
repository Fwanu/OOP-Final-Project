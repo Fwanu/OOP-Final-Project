{
 "cells": [
  {
   "cell_type": "markdown",
   "id": "6f21fd4b-fc6b-4ff9-b352-352c8c38e55f",
   "metadata": {},
   "source": [
    "### Beadle Assistance Program (BAP) \n",
    "    is a program created by group something (I dunno)\n",
    "\n"
   ]
  },
  {
   "cell_type": "markdown",
   "id": "f1ca5111-25fa-4269-9461-8c88bb2e5579",
   "metadata": {},
   "source": [
    "### MAIN FEATURES (if possible):\n",
    "    1. Allows user to generate days through use of calendar module (maybe)\n",
    "    2. Allows user to record students as absent\n",
    "    3. Allows user to record students as present\n",
    "    4. Allows user to save the data and export as text file (debatable)"
   ]
  },
  {
   "cell_type": "markdown",
   "id": "d6d4c0cc-906a-436d-9811-0a15e4fe7e27",
   "metadata": {},
   "source": [
    "Class\n",
    "    User:\n",
    "        def __init__ (self, name, Dates_present):\n",
    "            self.Name:\n",
    "            self.Date_Present: (List probably)\n",
    "            self.Date_Absent: (List probably)\n",
    "\n",
    "        def add_present(date)\n",
    "            self.inclusion = date\n",
    "            self.Date_Present.append(self.inclusion)\n",
    "\n",
    "            if self.inclusion in Date_Absent:\n",
    "                self.Date_Absent.remove(self.inclusion)\n",
    "                break\n",
    "                \n",
    "            end\n",
    "\n",
    "        def remove_present(date)\n",
    "            self.removal = date\n",
    "            self.Date_Absent.append(self.removal)\n",
    "            self.state = 0\n",
    "            \n",
    "            if self.removal in self.Date_Present:\n",
    "                self.Date_Present.remove(self.remove)\n",
    "                \n",
    "            end\n",
    "\n",
    "    Buttons:\n",
    "        def __init__(self, date, posx, posy):\n",
    "            self.date = date\n",
    "            self.posx = posx\n",
    "            self.posy = posy\n",
    "\n",
    "        def summon(self):\n",
    "            butt = Button(window, height=1 , width=2, command=update)\n",
    "            butt.place(posx, posy)\n",
    "\n",
    "        def update(self):\n",
    "            if self.state = 0:\n",
    "                add_present(date)\n",
    "                self.state = 1\n",
    "            else if self.state = 1:\n",
    "                remove_present(date)\n",
    "                self.state = 0\n",
    "\n",
    "        Notes: I literally don't know how implement the update function for buttons\n",
    "            - Maybe make the update a separate class or function?\n",
    "            - Thats my only idea lmao\n",
    "            \n",
    "        Update: Buttons DID not work I am crying rn"
   ]
  },
  {
   "cell_type": "markdown",
   "id": "4082bbdd-1c13-4904-bb56-ec4bc49dafca",
   "metadata": {},
   "source": [
    "#### Things to do:\n",
    "    ·Customizable Names input\n",
    "    ·Calculate space between squares for text and buttons and stuff\n",
    "    ·Figure out how to link button with the generated date\n",
    "    ·Figure out how to output Class file in a format instead of as JSONs \n",
    "    \n",
    "\n"
   ]
  },
  {
   "cell_type": "markdown",
   "id": "99968e41-6d22-4f58-9593-c2dce96aba3d",
   "metadata": {},
   "source": []
  },
  {
   "cell_type": "markdown",
   "id": "ccf38af6-1bad-48c0-9ab4-2d905aaa0ca6",
   "metadata": {},
   "source": [
    "### Test Cases\n",
    "    function name, steps to use, then output check"
   ]
  },
  {
   "cell_type": "markdown",
   "id": "98f5b124-5402-49b9-a129-7e910c519a08",
   "metadata": {},
   "source": [
    "#### GetDate Function\n",
    "    run program -> new window opens -> input any two dates. If the two dates are <= 0 or letters then prompt again, else for x in range (date_start, date_end) -> range of numbers are in top of column"
   ]
  },
  {
   "cell_type": "markdown",
   "id": "56a88f24-dbfc-4714-b8d7-39dc078085fb",
   "metadata": {},
   "source": [
    "#### NameGet Function\n",
    "    run program -> complete getdate -> select left most button -> should open prompt for input -> once input is entered, new text is printed in main window, if there was previous text, it will be overwritten"
   ]
  },
  {
   "cell_type": "markdown",
   "id": "5eaa254f-bc24-4efd-89ba-4a29b6e7f369",
   "metadata": {},
   "source": [
    "Notes: SubmitDate and submit functions are connected to GetDate and NamgeGet functions respectively. If they are not working properly, then GetDate and NameGet would also not function properly"
   ]
  },
  {
   "cell_type": "markdown",
   "id": "b8494b1c-4ffe-43cb-8d4c-6e14897e805d",
   "metadata": {},
   "source": [
    "#### Button function:\n",
    "    The button is a child of the button class which requires a name, the name is formatted as w[x][y], it also holds a command which is run through lambda because apparently tkinter runs a code immediately when its run. Functions with no input value are safe, functions with are not. that's why we need lambda"
   ]
  },
  {
   "cell_type": "markdown",
   "id": "b0299339-b623-4a0e-8eec-94fe65972dec",
   "metadata": {},
   "source": [
    "##### This program is run by a loooooot of Button calls\n",
    "    -we detected the redundancy way too late, a better way to optimize the code is to instead make the main class User have summoned the button once initialized or turn it into a class method that summons a row of buttons it can directly manipulate\n",
    "    \n",
    "    -what was done instead was making a button that calls a function that calls an object method that appends and removes value (dates) to an object protected array attrib \n",
    "\n",
    "    -11 users * 16 inputs = 176 buttons for appending and removing dates"
   ]
  },
  {
   "cell_type": "markdown",
   "id": "be1937f7-38b0-4187-8380-155f38e6df89",
   "metadata": {},
   "source": [
    "##### func. Functions\n",
    "    func. functions are imported from the fun module (the holder of most of function and class codes)\n",
    "    its func. cus import fun as func"
   ]
  },
  {
   "cell_type": "markdown",
   "id": "b062d019-9769-44a2-afe0-85170661178a",
   "metadata": {},
   "source": [
    "#### func.add:\n",
    "    run program -> complete until or before NameGet function -> select buttons under the columns of the range of dates -> pressing the button once turns it red and records the date as absent, pressing it when its red records the date as present, removing it from absent and turning the button green"
   ]
  },
  {
   "cell_type": "markdown",
   "id": "e66d965b-ee62-4aee-b84e-cff43f00f437",
   "metadata": {},
   "source": [
    "#### Class User:\n",
    "    The class holds most of the methods used for adding and removing from the arrays since theyre protected. func.add uses the add_present and add_absent methods of the class User to record the values to its attributes. NameGet also uses its add_name method to add name to the user object"
   ]
  },
  {
   "cell_type": "markdown",
   "id": "b746d4b3-19d6-4b51-9c7b-deb25d812c7e",
   "metadata": {},
   "source": [
    "#### dates_between:\n",
    "    [] array that holds all the days between the range"
   ]
  },
  {
   "cell_type": "markdown",
   "id": "54498a16-84b9-459e-a0f2-97821173af70",
   "metadata": {},
   "source": [
    "##### UserOne to UserNine was initialized manually"
   ]
  },
  {
   "cell_type": "markdown",
   "id": "3fb45175-3fa7-47d9-a8c8-af88d473cee2",
   "metadata": {},
   "source": [
    "##### UserOne to UserNine addresses was stored in classlist for looping reasons"
   ]
  },
  {
   "cell_type": "markdown",
   "id": "4a9ea805-9471-4713-ab21-ddbcc032a090",
   "metadata": {},
   "source": [
    "#### Export:\n",
    "    run program -> run and use functions till satisfied -> press export button -> exit app go to app folder and check masterfile.txt if data is recorded; to be exact: Name, Dates Recorded, Present, Absent, Total Days Present, Total Days Absent for all the classes"
   ]
  },
  {
   "cell_type": "markdown",
   "id": "f165c8ac-8322-4b3b-aa23-e207ac3335e1",
   "metadata": {},
   "source": [
    "##### Notes: I don't know why but I have a feeling that there's a better way to optimize user objects, classlist and export so that it can print what is only present"
   ]
  },
  {
   "cell_type": "markdown",
   "id": "619b9636-4049-4736-8c7d-c50daff71a96",
   "metadata": {},
   "source": [
    "User Errors: \n",
    "\n",
    "    inputting 0 and 0 as date start and date end\n",
    "\t\t-softlock\n",
    "\t\t\t- will still store 0s\n",
    "\t\t\t\t-restart at that point\n",
    "                    - problem solved, add new button on topright\n",
    "\n",
    "    number more than 31 input\n",
    "\t\t-will still take the numbers\n",
    "\t\t\t- but deletes everything past 16\n"
   ]
  },
  {
   "cell_type": "markdown",
   "id": "243366c1-6756-47d5-b9c4-162b728b69c9",
   "metadata": {},
   "source": [
    "Edge Cases:\n",
    "    \n",
    "\tactivating buttons with no assigned value\n",
    "\t\t-will automatically add 0 as default\n",
    "\t\t\t- so it will do it with 0\n",
    "\t\t\t\t- but the export function ignores 0 by default so it will dissmiss this by default; I can also maybe change it to a null value\n",
    "\n",
    "\tinputting dates, doing present then changing dates\n",
    "\t\t-will not remove the data inside\n",
    "\t\t\t"
   ]
  },
  {
   "cell_type": "code",
   "execution_count": null,
   "id": "3fb3d7d3-b319-4d1b-b4f2-de96ac9aea07",
   "metadata": {},
   "outputs": [],
   "source": []
  }
 ],
 "metadata": {
  "kernelspec": {
   "display_name": "Python 3 (ipykernel)",
   "language": "python",
   "name": "python3"
  },
  "language_info": {
   "codemirror_mode": {
    "name": "ipython",
    "version": 3
   },
   "file_extension": ".py",
   "mimetype": "text/x-python",
   "name": "python",
   "nbconvert_exporter": "python",
   "pygments_lexer": "ipython3",
   "version": "3.12.7"
  }
 },
 "nbformat": 4,
 "nbformat_minor": 5
}
